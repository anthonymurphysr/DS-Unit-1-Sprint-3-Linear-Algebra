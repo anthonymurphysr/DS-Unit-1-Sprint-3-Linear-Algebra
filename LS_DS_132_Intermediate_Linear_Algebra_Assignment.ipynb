{
  "nbformat": 4,
  "nbformat_minor": 0,
  "metadata": {
    "colab": {
      "name": "LS_DS_132_Intermediate_Linear_Algebra_Assignment.ipynb",
      "provenance": [],
      "collapsed_sections": [],
      "include_colab_link": true
    },
    "kernelspec": {
      "name": "python3",
      "display_name": "Python 3"
    }
  },
  "cells": [
    {
      "cell_type": "markdown",
      "metadata": {
        "id": "view-in-github",
        "colab_type": "text"
      },
      "source": [
        "<a href=\"https://colab.research.google.com/github/anthonymurphysr/DS-Unit-1-Sprint-3-Linear-Algebra/blob/master/LS_DS_132_Intermediate_Linear_Algebra_Assignment.ipynb\" target=\"_parent\"><img src=\"https://colab.research.google.com/assets/colab-badge.svg\" alt=\"Open In Colab\"/></a>"
      ]
    },
    {
      "cell_type": "markdown",
      "metadata": {
        "id": "GSNiYn8lr6nN"
      },
      "source": [
        "# Statistics"
      ]
    },
    {
      "cell_type": "markdown",
      "metadata": {
        "id": "3d4izUhQvh2_"
      },
      "source": [
        "## 1.1 Sales for the past week was the following amounts: [3505, 2400, 3027, 2798, 3700, 3250, 2689]. Without using library functions, what is the mean, variance, and standard deviation of of sales from last week? (for extra bonus points, write your own function that can calculate these two values for any sized list)"
      ]
    },
    {
      "cell_type": "code",
      "metadata": {
        "id": "w1iZfYvBtEA1",
        "outputId": "3cf51945-92b8-4546-dd14-a59ee308f9b7",
        "colab": {
          "base_uri": "https://localhost:8080/",
          "height": 68
        }
      },
      "source": [
        "# Set observations as N\n",
        "n = 7\n",
        "\n",
        "# Calculate mean\n",
        "mean = (3505 + 2400 + 3027 + 2798 + 3700 + 3250 + 2689) / 7\n",
        "\n",
        "# Calculate Step 1 & Step 2 of Variance\n",
        "sub_mean = [3505-mean, 2400-mean, 3027-mean, 2798-mean, 3700-mean, 3250-mean, 2689-mean]\n",
        "squares = [x*x for x in sub_mean]\n",
        "# Sum of Square to Calculate STD\n",
        "sos = (204562.36734693873 + 426035.9387755103 + 661.2244897959217 + \n",
        "      64879.36734693881 + 418978.7959183673 + 38921.65306122446 + 132288.0816326531)\n",
        "\n",
        "# Calculate true variance after SOS is discovered\n",
        "variance = sos/(n-1)\n",
        "\n",
        "# Calculate Standard Deviation\n",
        "std = variance**(1/2)\n",
        "\n",
        "# Print results\n",
        "print('The mean is:', mean)\n",
        "print('The variance is:', variance)\n",
        "print('The STD is: ', std)"
      ],
      "execution_count": 1,
      "outputs": [
        {
          "output_type": "stream",
          "text": [
            "The mean is: 3052.714285714286\n",
            "The variance is: 214387.90476190473\n",
            "The STD is:  463.0204150595357\n"
          ],
          "name": "stdout"
        }
      ]
    },
    {
      "cell_type": "markdown",
      "metadata": {
        "id": "oh63KaOctEp_"
      },
      "source": [
        "## 1.2 Find the covariance between last week's sales numbers and the number of customers that entered the store last week: [127, 80, 105, 92, 120, 115, 93] (you may use librray functions for calculating the covariance since we didn't specifically talk about its formula)"
      ]
    },
    {
      "cell_type": "code",
      "metadata": {
        "id": "G7ZB0krot564",
        "outputId": "f37c3d79-66c5-49d2-de7d-60f27275a1b3",
        "colab": {
          "base_uri": "https://localhost:8080/",
          "height": 111
        }
      },
      "source": [
        "# Import packages\n",
        "import pandas as pd\n",
        "import numpy as np\n",
        "import matplotlib.pyplot as plt\n",
        "\n",
        "# Create Sales DF\n",
        "sales = [3505, 2400, 3027, 2798, 3700, 3250, 2689]\n",
        "sales = pd.DataFrame(sales)\n",
        "\n",
        "# Create customers DF\n",
        "customers = [127, 80, 105, 92, 120, 115, 93]\n",
        "customers = pd.DataFrame(customers)\n",
        "\n",
        "# Create Sales vs Customers\n",
        "svc = pd.concat([sales, customers], axis=1)\n",
        "svc.columns = [\"Sales\", \"Customers\"]\n",
        "\n",
        "# Covariance for Sales vs Customers\n",
        "svc.cov()"
      ],
      "execution_count": 2,
      "outputs": [
        {
          "output_type": "execute_result",
          "data": {
            "text/html": [
              "<div>\n",
              "<style scoped>\n",
              "    .dataframe tbody tr th:only-of-type {\n",
              "        vertical-align: middle;\n",
              "    }\n",
              "\n",
              "    .dataframe tbody tr th {\n",
              "        vertical-align: top;\n",
              "    }\n",
              "\n",
              "    .dataframe thead th {\n",
              "        text-align: right;\n",
              "    }\n",
              "</style>\n",
              "<table border=\"1\" class=\"dataframe\">\n",
              "  <thead>\n",
              "    <tr style=\"text-align: right;\">\n",
              "      <th></th>\n",
              "      <th>Sales</th>\n",
              "      <th>Customers</th>\n",
              "    </tr>\n",
              "  </thead>\n",
              "  <tbody>\n",
              "    <tr>\n",
              "      <th>Sales</th>\n",
              "      <td>214387.904762</td>\n",
              "      <td>7604.357143</td>\n",
              "    </tr>\n",
              "    <tr>\n",
              "      <th>Customers</th>\n",
              "      <td>7604.357143</td>\n",
              "      <td>290.952381</td>\n",
              "    </tr>\n",
              "  </tbody>\n",
              "</table>\n",
              "</div>"
            ],
            "text/plain": [
              "                   Sales    Customers\n",
              "Sales      214387.904762  7604.357143\n",
              "Customers    7604.357143   290.952381"
            ]
          },
          "metadata": {
            "tags": []
          },
          "execution_count": 2
        }
      ]
    },
    {
      "cell_type": "markdown",
      "metadata": {
        "id": "J9SbUY9mt66I"
      },
      "source": [
        "\n",
        "\n",
        "## 1.3 Find the standard deviation of customers who entered the store last week. Then, use the standard deviations of both sales and customers to standardize the covariance to find the correlation coefficient that summarizes the relationship between sales and customers. (You may use library functions to check your work.)"
      ]
    },
    {
      "cell_type": "code",
      "metadata": {
        "id": "vFJms2YRrKhY",
        "outputId": "e852933c-ce0b-4649-8965-87ae1135d408",
        "colab": {
          "base_uri": "https://localhost:8080/",
          "height": 51
        }
      },
      "source": [
        "# Assign variables for std\n",
        "std_cust = svc.Customers.std(ddof=0)\n",
        "std_sales = svc.Sales.std(ddof=0)\n",
        "\n",
        "# Print variables\n",
        "print('The standard deviation of customers is: ', std_cust)\n",
        "print('The standard deviation of sales is: ', std_sales)"
      ],
      "execution_count": 3,
      "outputs": [
        {
          "output_type": "stream",
          "text": [
            "The standard deviation of customers is:  15.792015549069118\n",
            "The standard deviation of sales is:  428.67360686714756\n"
          ],
          "name": "stdout"
        }
      ]
    },
    {
      "cell_type": "code",
      "metadata": {
        "id": "c7SNIbSdB_Sv",
        "outputId": "3085eb1a-710d-487c-aaa5-6a3d9bcef48d",
        "colab": {
          "base_uri": "https://localhost:8080/",
          "height": 68
        }
      },
      "source": [
        "# Standardize COV with STD\n",
        "standardize = (svc.cov())/(std_cust * std_sales)\n",
        "\n",
        "# Print standardize\n",
        "print(standardize)"
      ],
      "execution_count": 4,
      "outputs": [
        {
          "output_type": "stream",
          "text": [
            "               Sales  Customers\n",
            "Sales      31.669118   1.123306\n",
            "Customers   1.123306   0.042979\n"
          ],
          "name": "stdout"
        }
      ]
    },
    {
      "cell_type": "markdown",
      "metadata": {
        "id": "IbZVf7nmujPJ"
      },
      "source": [
        "## 1.4 Use pandas to import a cleaned version of the titanic dataset from the following link: [Titanic Dataset](https://raw.githubusercontent.com/Geoyi/Cleaning-Titanic-Data/master/titanic_clean.csv)\n",
        "\n",
        "## Calculate the variance-covariance matrix and correlation matrix for the titanic dataset's numeric columns. (you can encode some of the categorical variables and include them as a stretch goal if you finish early)"
      ]
    },
    {
      "cell_type": "code",
      "metadata": {
        "id": "0TWgUIiaCFzq",
        "outputId": "0145651c-98cc-4fc0-dbc9-9e260f980914",
        "colab": {
          "base_uri": "https://localhost:8080/",
          "height": 204
        }
      },
      "source": [
        "# Import Dataframe\n",
        "df = pd.read_csv('https://raw.githubusercontent.com/Geoyi/Cleaning-Titanic-Data/master/titanic_clean.csv')\n",
        "\n",
        "# Inspect head\n",
        "df.head()"
      ],
      "execution_count": 5,
      "outputs": [
        {
          "output_type": "execute_result",
          "data": {
            "text/html": [
              "<div>\n",
              "<style scoped>\n",
              "    .dataframe tbody tr th:only-of-type {\n",
              "        vertical-align: middle;\n",
              "    }\n",
              "\n",
              "    .dataframe tbody tr th {\n",
              "        vertical-align: top;\n",
              "    }\n",
              "\n",
              "    .dataframe thead th {\n",
              "        text-align: right;\n",
              "    }\n",
              "</style>\n",
              "<table border=\"1\" class=\"dataframe\">\n",
              "  <thead>\n",
              "    <tr style=\"text-align: right;\">\n",
              "      <th></th>\n",
              "      <th>Unnamed: 0</th>\n",
              "      <th>pclass</th>\n",
              "      <th>survived</th>\n",
              "      <th>name</th>\n",
              "      <th>sex</th>\n",
              "      <th>age</th>\n",
              "      <th>sibsp</th>\n",
              "      <th>parch</th>\n",
              "      <th>ticket</th>\n",
              "      <th>fare</th>\n",
              "      <th>cabin</th>\n",
              "      <th>embarked</th>\n",
              "      <th>boat</th>\n",
              "      <th>body</th>\n",
              "      <th>home.dest</th>\n",
              "      <th>has_cabin_number</th>\n",
              "    </tr>\n",
              "  </thead>\n",
              "  <tbody>\n",
              "    <tr>\n",
              "      <th>0</th>\n",
              "      <td>1</td>\n",
              "      <td>1.0</td>\n",
              "      <td>1.0</td>\n",
              "      <td>Allen, Miss. Elisabeth Walton</td>\n",
              "      <td>female</td>\n",
              "      <td>29.0000</td>\n",
              "      <td>0.0</td>\n",
              "      <td>0.0</td>\n",
              "      <td>24160</td>\n",
              "      <td>211.3375</td>\n",
              "      <td>B5</td>\n",
              "      <td>S</td>\n",
              "      <td>2</td>\n",
              "      <td>NaN</td>\n",
              "      <td>St Louis, MO</td>\n",
              "      <td>1</td>\n",
              "    </tr>\n",
              "    <tr>\n",
              "      <th>1</th>\n",
              "      <td>2</td>\n",
              "      <td>1.0</td>\n",
              "      <td>1.0</td>\n",
              "      <td>Allison, Master. Hudson Trevor</td>\n",
              "      <td>male</td>\n",
              "      <td>0.9167</td>\n",
              "      <td>1.0</td>\n",
              "      <td>2.0</td>\n",
              "      <td>113781</td>\n",
              "      <td>151.5500</td>\n",
              "      <td>C22 C26</td>\n",
              "      <td>S</td>\n",
              "      <td>11</td>\n",
              "      <td>NaN</td>\n",
              "      <td>Montreal, PQ / Chesterville, ON</td>\n",
              "      <td>1</td>\n",
              "    </tr>\n",
              "    <tr>\n",
              "      <th>2</th>\n",
              "      <td>3</td>\n",
              "      <td>1.0</td>\n",
              "      <td>0.0</td>\n",
              "      <td>Allison, Miss. Helen Loraine</td>\n",
              "      <td>female</td>\n",
              "      <td>2.0000</td>\n",
              "      <td>1.0</td>\n",
              "      <td>2.0</td>\n",
              "      <td>113781</td>\n",
              "      <td>151.5500</td>\n",
              "      <td>C22 C26</td>\n",
              "      <td>S</td>\n",
              "      <td>NaN</td>\n",
              "      <td>NaN</td>\n",
              "      <td>Montreal, PQ / Chesterville, ON</td>\n",
              "      <td>1</td>\n",
              "    </tr>\n",
              "    <tr>\n",
              "      <th>3</th>\n",
              "      <td>4</td>\n",
              "      <td>1.0</td>\n",
              "      <td>0.0</td>\n",
              "      <td>Allison, Mr. Hudson Joshua Creighton</td>\n",
              "      <td>male</td>\n",
              "      <td>30.0000</td>\n",
              "      <td>1.0</td>\n",
              "      <td>2.0</td>\n",
              "      <td>113781</td>\n",
              "      <td>151.5500</td>\n",
              "      <td>C22 C26</td>\n",
              "      <td>S</td>\n",
              "      <td>NaN</td>\n",
              "      <td>135.0</td>\n",
              "      <td>Montreal, PQ / Chesterville, ON</td>\n",
              "      <td>1</td>\n",
              "    </tr>\n",
              "    <tr>\n",
              "      <th>4</th>\n",
              "      <td>5</td>\n",
              "      <td>1.0</td>\n",
              "      <td>0.0</td>\n",
              "      <td>Allison, Mrs. Hudson J C (Bessie Waldo Daniels)</td>\n",
              "      <td>female</td>\n",
              "      <td>25.0000</td>\n",
              "      <td>1.0</td>\n",
              "      <td>2.0</td>\n",
              "      <td>113781</td>\n",
              "      <td>151.5500</td>\n",
              "      <td>C22 C26</td>\n",
              "      <td>S</td>\n",
              "      <td>NaN</td>\n",
              "      <td>NaN</td>\n",
              "      <td>Montreal, PQ / Chesterville, ON</td>\n",
              "      <td>1</td>\n",
              "    </tr>\n",
              "  </tbody>\n",
              "</table>\n",
              "</div>"
            ],
            "text/plain": [
              "   Unnamed: 0  pclass  ...                        home.dest has_cabin_number\n",
              "0           1     1.0  ...                     St Louis, MO                1\n",
              "1           2     1.0  ...  Montreal, PQ / Chesterville, ON                1\n",
              "2           3     1.0  ...  Montreal, PQ / Chesterville, ON                1\n",
              "3           4     1.0  ...  Montreal, PQ / Chesterville, ON                1\n",
              "4           5     1.0  ...  Montreal, PQ / Chesterville, ON                1\n",
              "\n",
              "[5 rows x 16 columns]"
            ]
          },
          "metadata": {
            "tags": []
          },
          "execution_count": 5
        }
      ]
    },
    {
      "cell_type": "code",
      "metadata": {
        "id": "D8hgOVkuP40w"
      },
      "source": [
        "# Drop unnecessary columns\n",
        "df = df.drop(['name', 'sex', 'cabin', 'embarked', 'home.dest', 'ticket', 'boat'], axis=1)"
      ],
      "execution_count": 6,
      "outputs": []
    },
    {
      "cell_type": "code",
      "metadata": {
        "id": "LNgJ1XujBYi4",
        "outputId": "e7311c13-965f-46be-8b0a-e0c1a652621e",
        "colab": {
          "base_uri": "https://localhost:8080/",
          "height": 544
        }
      },
      "source": [
        "# Assign Variance and Covariance \n",
        "cov = df.cov\n",
        "cor = df.corr\n",
        "\n",
        "# Print var/cor tables\n",
        "print('Variance-Covariance\\n',cov)\n",
        "print('\\nCorrelation\\n',cor)"
      ],
      "execution_count": 7,
      "outputs": [
        {
          "output_type": "stream",
          "text": [
            "Variance-Covariance\n",
            " <bound method DataFrame.cov of       Unnamed: 0  pclass  survived  ...      fare   body  has_cabin_number\n",
            "0              1     1.0       1.0  ...  211.3375    NaN                 1\n",
            "1              2     1.0       1.0  ...  151.5500    NaN                 1\n",
            "2              3     1.0       0.0  ...  151.5500    NaN                 1\n",
            "3              4     1.0       0.0  ...  151.5500  135.0                 1\n",
            "4              5     1.0       0.0  ...  151.5500    NaN                 1\n",
            "...          ...     ...       ...  ...       ...    ...               ...\n",
            "1305        1306     3.0       0.0  ...   14.4542    NaN                 0\n",
            "1306        1307     3.0       0.0  ...    7.2250  304.0                 0\n",
            "1307        1308     3.0       0.0  ...    7.2250    NaN                 0\n",
            "1308        1309     3.0       0.0  ...    7.8750    NaN                 0\n",
            "1309        1310     NaN       NaN  ...       NaN    NaN                 0\n",
            "\n",
            "[1310 rows x 9 columns]>\n",
            "\n",
            "Correlation\n",
            " <bound method DataFrame.corr of       Unnamed: 0  pclass  survived  ...      fare   body  has_cabin_number\n",
            "0              1     1.0       1.0  ...  211.3375    NaN                 1\n",
            "1              2     1.0       1.0  ...  151.5500    NaN                 1\n",
            "2              3     1.0       0.0  ...  151.5500    NaN                 1\n",
            "3              4     1.0       0.0  ...  151.5500  135.0                 1\n",
            "4              5     1.0       0.0  ...  151.5500    NaN                 1\n",
            "...          ...     ...       ...  ...       ...    ...               ...\n",
            "1305        1306     3.0       0.0  ...   14.4542    NaN                 0\n",
            "1306        1307     3.0       0.0  ...    7.2250  304.0                 0\n",
            "1307        1308     3.0       0.0  ...    7.2250    NaN                 0\n",
            "1308        1309     3.0       0.0  ...    7.8750    NaN                 0\n",
            "1309        1310     NaN       NaN  ...       NaN    NaN                 0\n",
            "\n",
            "[1310 rows x 9 columns]>\n"
          ],
          "name": "stdout"
        }
      ]
    },
    {
      "cell_type": "markdown",
      "metadata": {
        "id": "7K0Xfh8MvYkl"
      },
      "source": [
        "# Orthogonality"
      ]
    },
    {
      "cell_type": "markdown",
      "metadata": {
        "id": "Pe3eOZ2fvdZ-"
      },
      "source": [
        "## 2.1 Plot two vectors that are orthogonal to each other. What is a synonym for orthogonal?"
      ]
    },
    {
      "cell_type": "code",
      "metadata": {
        "id": "YLSBk7hJvvCx",
        "outputId": "c4f770a0-9bb9-420e-d756-c173bf110184",
        "colab": {
          "base_uri": "https://localhost:8080/",
          "height": 335
        }
      },
      "source": [
        "# Set plot limits\n",
        "plt.xlim(0,5)         \n",
        "plt.ylim(0,5)\n",
        "\n",
        "# Set vectors\n",
        "x = [0,3]\n",
        "y = [3,0]\n",
        "\n",
        "# Set chart to equal side square\n",
        "plt.axes().set_aspect('equal')\n",
        "\n",
        "# Plot vectors\n",
        "plt.arrow(1, 1, *x, linewidth=2, head_width=.05, head_length=0.1, color ='g')\n",
        "plt.arrow(1, 1, *y, linewidth=2, head_width=.05, head_length=0.1, color ='b')\n",
        "\n",
        "# Set title\n",
        "plt.title(\"Orthogonal Vectors\")\n",
        "\n",
        "# Plot\n",
        "plt.show()"
      ],
      "execution_count": 8,
      "outputs": [
        {
          "output_type": "stream",
          "text": [
            "/usr/local/lib/python3.6/dist-packages/ipykernel_launcher.py:10: MatplotlibDeprecationWarning: Adding an axes using the same arguments as a previous axes currently reuses the earlier instance.  In a future version, a new instance will always be created and returned.  Meanwhile, this warning can be suppressed, and the future behavior ensured, by passing a unique label to each axes instance.\n",
            "  # Remove the CWD from sys.path while we load stuff.\n"
          ],
          "name": "stderr"
        },
        {
          "output_type": "display_data",
          "data": {
            "image/png": "[encoded data removed]",
            "text/plain": [
              "<Figure size 432x288 with 1 Axes>"
            ]
          },
          "metadata": {
            "tags": [],
            "needs_background": "light"
          }
        }
      ]
    },
    {
      "cell_type": "markdown",
      "metadata": {
        "id": "6iqDTUHfC6D1"
      },
      "source": [
        "---\n",
        "A synonym for orthogonal is perpendicular.\n",
        "\n",
        "---\n"
      ]
    },
    {
      "cell_type": "markdown",
      "metadata": {
        "id": "7AS4V1Nhvvxz"
      },
      "source": [
        "\n",
        "## 2.2 Are the following vectors orthogonal? Why or why not?\n",
        "\n",
        "\\begin{align}\n",
        "a = \\begin{bmatrix} -5 \\\\ 3 \\\\ 7 \\end{bmatrix}\n",
        "\\qquad\n",
        "b = \\begin{bmatrix} 6 \\\\ -8 \\\\ 2 \\end{bmatrix}\n",
        "\\end{align}"
      ]
    },
    {
      "cell_type": "code",
      "metadata": {
        "id": "F_-y54YSz47k",
        "outputId": "fa4925f4-0c70-4a0d-e8b9-38ab8a79bf77",
        "colab": {
          "base_uri": "https://localhost:8080/",
          "height": 306
        }
      },
      "source": [
        "# Import LA\n",
        "import numpy.linalg as LA\n",
        "\n",
        "# Set vectors to variables\n",
        "a = pd.DataFrame([[-5], [3], [7]])\n",
        "b = pd.DataFrame([[6], [-8], [2]])\n",
        "\n",
        "# Calculate Norm\n",
        "norm_a = LA.norm(a)\n",
        "norm_b = LA.norm(b)\n",
        "\n",
        "# Calculate Unit Vector\n",
        "unit_a = a/norm_a\n",
        "unit_b = b/norm_b\n",
        "\n",
        "# Print Unit Vector\n",
        "print('Unit Vector A:\\n',unit_a)\n",
        "print('\\nUnit Vector B:\\n', unit_b)\n",
        "print('The a*b is: ', a*b)\n",
        "print('\\nThe dot product is', str(-30-24+14), 'so therefore the vectors are not orthogonal.')"
      ],
      "execution_count": 9,
      "outputs": [
        {
          "output_type": "stream",
          "text": [
            "Unit Vector A:\n",
            "           0\n",
            "0 -0.548821\n",
            "1  0.329293\n",
            "2  0.768350\n",
            "\n",
            "Unit Vector B:\n",
            "           0\n",
            "0  0.588348\n",
            "1 -0.784465\n",
            "2  0.196116\n",
            "The a*b is:      0\n",
            "0 -30\n",
            "1 -24\n",
            "2  14\n",
            "\n",
            "The dot product is -40 so therefore the vectors are not orthogonal.\n"
          ],
          "name": "stdout"
        }
      ]
    },
    {
      "cell_type": "markdown",
      "metadata": {
        "id": "MiNjyqiEz5SG"
      },
      "source": [
        "## 2.3 Compute the following values: What do these quantities have in common?\n",
        "\n",
        "## What is $||c||^2$? \n",
        "\n",
        "## What is $c \\cdot c$? \n",
        "\n",
        "## What is $c^{T}c$?\n",
        "\n",
        "\\begin{align}\n",
        "c = \\begin{bmatrix} 2 & -15 & 6 & 20 \\end{bmatrix}\n",
        "\\end{align}"
      ]
    },
    {
      "cell_type": "code",
      "metadata": {
        "id": "IlV_uaYK1EQB",
        "outputId": "16221e30-fa8b-4fa4-c01b-3200efaf0e9c",
        "colab": {
          "base_uri": "https://localhost:8080/",
          "height": 272
        }
      },
      "source": [
        "# Create c \n",
        "c = pd.DataFrame([2, -15, 6, 20])\n",
        "\n",
        "# ||c||**2\n",
        "c2 = (LA.norm(c))**2\n",
        "# c*c\n",
        "cc = c*c\n",
        "#cTc\n",
        "ctc = (c.T)*c\n",
        "\n",
        "# Print values\n",
        "print('The ||c||^2 is: ', c2)\n",
        "print('\\nThe c*c is: ', cc)\n",
        "print('\\nThe dot product is: 665\\n')\n",
        "print('The cTc is: ', ctc)"
      ],
      "execution_count": 10,
      "outputs": [
        {
          "output_type": "stream",
          "text": [
            "The ||c||^2 is:  665.0\n",
            "\n",
            "The c*c is:       0\n",
            "0    4\n",
            "1  225\n",
            "2   36\n",
            "3  400\n",
            "\n",
            "The dot product is: 665\n",
            "\n",
            "The cTc is:       0   1   2   3\n",
            "0  4.0 NaN NaN NaN\n",
            "1  NaN NaN NaN NaN\n",
            "2  NaN NaN NaN NaN\n",
            "3  NaN NaN NaN NaN\n"
          ],
          "name": "stdout"
        }
      ]
    },
    {
      "cell_type": "markdown",
      "metadata": {
        "id": "lPjcDUBnEKmr"
      },
      "source": [
        "---\n",
        "They all add up to the same sum.\n",
        "\n",
        "---"
      ]
    },
    {
      "cell_type": "markdown",
      "metadata": {
        "id": "MK_TpWqk1Evk"
      },
      "source": [
        "# Unit Vectors"
      ]
    },
    {
      "cell_type": "markdown",
      "metadata": {
        "id": "Kpit6WWO1b8l"
      },
      "source": [
        "## 3.1 Using Latex, write the following vectors as a linear combination of scalars and unit vectors:\n",
        "\n",
        "\\begin{align}\n",
        "d = \\begin{bmatrix} 7 \\\\ 12 \\end{bmatrix}\n",
        "\\qquad\n",
        "e = \\begin{bmatrix} 2 \\\\ 11 \\\\ -8  \\end{bmatrix}\n",
        "\\end{align}"
      ]
    },
    {
      "cell_type": "markdown",
      "metadata": {
        "id": "oBCj1sDW2ouC"
      },
      "source": [
        "---\n",
        "$$ \\begin{align}\n",
        "d = \\begin{bmatrix} 7 \\\\ 12 \\end{bmatrix} = 7\\begin{bmatrix} 1 \\\\ 0 \\end{bmatrix} + 12\\begin{bmatrix} 0 \\\\ 1 \\end{bmatrix} = 7\\hat{i} + 12\\hat{j}\n",
        "\\end{align} $$\n",
        "\n",
        "---\n",
        "$$ \\begin{align}\n",
        "e = \\begin{bmatrix} 2 \\\\ 11 \\\\ -8 \\end{bmatrix} = 2\\begin{bmatrix} 1 \\\\ 0 \\\\ 0 \\end{bmatrix} + 11\\begin{bmatrix} 0 \\\\ 1 \\\\ 0 \\end{bmatrix} + -8\\begin{bmatrix} 0 \\\\ 0 \\\\ 1 \\end{bmatrix} = 2\\hat{i} + 11\\hat{j} - 8\\hat{k}\n",
        "\\end{align} $$\n",
        "\n",
        "---\n"
      ]
    },
    {
      "cell_type": "markdown",
      "metadata": {
        "id": "dAdUQuep1_yJ"
      },
      "source": [
        "## 3.2 Turn vector $f$ into a unit vector:\n",
        "\n",
        "\\begin{align}\n",
        "f = \\begin{bmatrix} 4 & 12 & 11 & 9 & 2 \\end{bmatrix}\n",
        "\\end{align}"
      ]
    },
    {
      "cell_type": "code",
      "metadata": {
        "id": "I3W8ZiHR1_Fa",
        "outputId": "6e0f0db0-684f-4fd0-9f9b-a74777dc4d0b",
        "colab": {
          "base_uri": "https://localhost:8080/",
          "height": 153
        }
      },
      "source": [
        "# Create F\n",
        "f = pd.DataFrame([4, 12, 11, 92])\n",
        "\n",
        "# Print Magnitude of F\n",
        "print('Magnitude:\\n ', LA.norm(f))\n",
        "\n",
        "# Calculate Unit Vector of F\n",
        "unit_f = f/(LA.norm(f))\n",
        "\n",
        "# Print Unit Vector of F\n",
        "print('F Unit Vector:\\n',unit_f)"
      ],
      "execution_count": 11,
      "outputs": [
        {
          "output_type": "stream",
          "text": [
            "Magnitude:\n",
            "  93.5147047260483\n",
            "F Unit Vector:\n",
            "           0\n",
            "0  0.042774\n",
            "1  0.128322\n",
            "2  0.117629\n",
            "3  0.983802\n"
          ],
          "name": "stdout"
        }
      ]
    },
    {
      "cell_type": "markdown",
      "metadata": {
        "id": "o39UyP-I5lpP"
      },
      "source": [
        "# Linear Independence / Dependence "
      ]
    },
    {
      "cell_type": "markdown",
      "metadata": {
        "id": "ajfBqYe45sT5"
      },
      "source": [
        "## 4.1 Plot two vectors that are linearly dependent and two vectors that are linearly independent (bonus points if done in $\\mathbb{R}^3$)."
      ]
    },
    {
      "cell_type": "markdown",
      "metadata": {
        "id": "TrJ0MT_n3SvO"
      },
      "source": [
        "# Span"
      ]
    },
    {
      "cell_type": "markdown",
      "metadata": {
        "id": "86iXLzwM2z8l"
      },
      "source": [
        "## 5.1 What is the span of the following vectors?\n",
        "\n",
        "\\begin{align}\n",
        "g = \\begin{bmatrix} 1 & 2 \\end{bmatrix}\n",
        "\\qquad\n",
        "h = \\begin{bmatrix} 4 & 8 \\end{bmatrix}\n",
        "\\end{align}"
      ]
    },
    {
      "cell_type": "code",
      "metadata": {
        "id": "G2LK2RWL39Q4",
        "outputId": "6f8adcb5-bc4d-4034-976e-c5a61662db9f",
        "colab": {
          "base_uri": "https://localhost:8080/",
          "height": 317
        }
      },
      "source": [
        "g = np.array([1,2]) \n",
        "h = np.array([4,8])\n",
        "\n",
        "# Linear Combination\n",
        "span = g + h \n",
        "\n",
        "# Axis Bounds\n",
        "plt.xlim(0,7)          \n",
        "plt.ylim(0,11)\n",
        "\n",
        "# Plot Span\n",
        "plt.arrow(0,0, *span, linewidth=3, head_width=.05, head_length=0.05, color ='green')\n",
        "plt.title(\"Span of $G$ and $H$\")\n",
        "plt.show()\n",
        "\n",
        "# Print span vector\n",
        "print('The span vector is:\\n   ', span)"
      ],
      "execution_count": 26,
      "outputs": [
        {
          "output_type": "display_data",
          "data": {
            "image/png": "[encoded data removed]",
            "text/plain": [
              "<Figure size 432x288 with 1 Axes>"
            ]
          },
          "metadata": {
            "tags": [],
            "needs_background": "light"
          }
        },
        {
          "output_type": "stream",
          "text": [
            "The span vector is:\n",
            "    [ 5 10]\n"
          ],
          "name": "stdout"
        }
      ]
    },
    {
      "cell_type": "markdown",
      "metadata": {
        "id": "l1deylUj4IHH"
      },
      "source": [
        "## 5.2 What is the span of $\\{l, m, n\\}$?\n",
        "\n",
        "\\begin{align}\n",
        "l = \\begin{bmatrix} 1 & 2 & 3 \\end{bmatrix}\n",
        "\\qquad\n",
        "m = \\begin{bmatrix} -1 & 0 & 7 \\end{bmatrix}\n",
        "\\qquad\n",
        "n = \\begin{bmatrix} 4 & 8  & 2\\end{bmatrix}\n",
        "\\end{align}"
      ]
    },
    {
      "cell_type": "code",
      "metadata": {
        "id": "p1i_ueD25ZcP",
        "outputId": "63f0d63a-0beb-4b43-9b11-23fe960ae171",
        "colab": {
          "base_uri": "https://localhost:8080/",
          "height": 283
        }
      },
      "source": [
        "# Import Axes3D from mpl_toolkits\n",
        "from mpl_toolkits.mplot3d import Axes3D\n",
        "\n",
        "# Create vectors\n",
        "l = np.array([0, 0, 0, 1, 2, 3])\n",
        "m = np.array([0, 0, 0, -1, 0, 7])\n",
        "n = np.array([0, 0, 0, 4, 8, 2])\n",
        "span = l + m + n\n",
        "\n",
        "# Zip Vector\n",
        "X, Y, Z, U, V, W = zip(span)\n",
        "\n",
        "# Set fig\n",
        "fig = plt.figure()\n",
        "\n",
        "# Set ax to 3D Projection\n",
        "ax = fig.add_subplot(projection='3d')\n",
        "ax.quiver(X, Y, Z, U, V, W, length=1)\n",
        "\n",
        "#Set x-limit\n",
        "ax.set_xlim([0, 5])\n",
        "# Set y-limit\n",
        "ax.set_ylim([0, 11])\n",
        "# Set z-limit\n",
        "ax.set_zlim([0, 13])\n",
        "# Set title and squash output with ;\n",
        "plt.title('Span of $l$$m$$n$');\n",
        "\n",
        "\n",
        "# Plot vector\n",
        "plt.show()\n",
        "\n",
        "# Print span vector\n",
        "print('The span vector is:\\n   ', span[3:])"
      ],
      "execution_count": 25,
      "outputs": [
        {
          "output_type": "display_data",
          "data": {
            "image/png": "[encoded data removed]",
            "text/plain": [
              "<Figure size 432x288 with 1 Axes>"
            ]
          },
          "metadata": {
            "tags": [],
            "needs_background": "light"
          }
        },
        {
          "output_type": "stream",
          "text": [
            "The span vector is:\n",
            "    [ 4 10 12]\n"
          ],
          "name": "stdout"
        }
      ]
    },
    {
      "cell_type": "markdown",
      "metadata": {
        "id": "IBqe7X1732kX"
      },
      "source": [
        "# Basis"
      ]
    },
    {
      "cell_type": "markdown",
      "metadata": {
        "id": "YeUZVHRM6PpT"
      },
      "source": [
        "## 6.1 Graph two vectors that form a basis for $\\mathbb{R}^2$\n",
        "\n"
      ]
    },
    {
      "cell_type": "code",
      "metadata": {
        "id": "utvF3Pkt8NP6"
      },
      "source": [
        ""
      ],
      "execution_count": null,
      "outputs": []
    },
    {
      "cell_type": "markdown",
      "metadata": {
        "id": "20yPFBDUxxnS"
      },
      "source": [
        "## 6.2 What does it mean to form a basis?"
      ]
    },
    {
      "cell_type": "markdown",
      "metadata": {
        "id": "3w4tEayT8M0o"
      },
      "source": [
        "To form a basis is to find the set of vectors that are linearly independent and that spans the vector space."
      ]
    },
    {
      "cell_type": "markdown",
      "metadata": {
        "id": "EHmUxbcY6vD3"
      },
      "source": [
        "# Rank"
      ]
    },
    {
      "cell_type": "markdown",
      "metadata": {
        "id": "IpJwt9kw6v8U"
      },
      "source": [
        "## 7.1 What is the Rank of P?\n",
        "\n",
        "\\begin{align}\n",
        "P = \\begin{bmatrix} \n",
        "1 & 2 & 3 \\\\\n",
        " -1 & 0 & 7 \\\\\n",
        "4 & 8  & 2\n",
        "\\end{bmatrix}\n",
        "\\end{align}"
      ]
    },
    {
      "cell_type": "markdown",
      "metadata": {
        "id": "eLwLpy7jReTY"
      },
      "source": [
        "*Start*\n",
        "$$P= \\begin{bmatrix} 1 & 2  & 3\\\\ -1 & 0 & 7 \\\\ 4 & 8 & 2\\end{bmatrix}$$\n",
        "\n",
        "---\n",
        "*R2 + (1*R1) \n",
        "$$P= \\begin{bmatrix} 1 & 2  & 3\\\\ 0 & 2 & 10 \\\\ 0 & 0 & -10\\end{bmatrix}$$\n",
        "\n",
        "---\n",
        "*R2 / 2*\n",
        "$$P= \\begin{bmatrix} 1 & 2  & 3\\\\ 0 & 1 & 5 \\\\ 0 & 0 & -10\\end{bmatrix}$$\n",
        "\n",
        "---\n",
        "*R3 / -10*\n",
        "$$P= \\begin{bmatrix} 1 & 2  & 3\\\\ 0 & 1 & 5 \\\\ 0 & 0 & 1\\end{bmatrix}$$\n",
        "\n",
        "---\n",
        "This matrix has a rank of 3."
      ]
    },
    {
      "cell_type": "markdown",
      "metadata": {
        "id": "jGqFMBYY7mHD"
      },
      "source": [
        "## 7.2 What does the rank of a matrix tell us?"
      ]
    },
    {
      "cell_type": "markdown",
      "metadata": {
        "id": "Vjg1IiCD8nnP"
      },
      "source": [
        "---\n",
        "It helps determine what vectors may be linearly independent."
      ]
    },
    {
      "cell_type": "markdown",
      "metadata": {
        "id": "0Db2sc_V8QD6"
      },
      "source": [
        "# Linear Projections\n",
        "\n",
        "## 8.1 Line $L$ is formed by all of the vectors that can be created by scaling vector $v$ \n",
        "\\begin{align}\n",
        "v = \\begin{bmatrix} 1 & 3 \\end{bmatrix}\n",
        "\\end{align}\n",
        "\n",
        "\\begin{align}\n",
        "w = \\begin{bmatrix} -1 & 2 \\end{bmatrix}\n",
        "\\end{align}\n",
        "\n",
        "## find $proj_{L}(w)$\n",
        "\n",
        "## graph your projected vector to check your work (make sure your axis are square/even)"
      ]
    },
    {
      "cell_type": "code",
      "metadata": {
        "id": "hp5z2WTBCNKx"
      },
      "source": [
        ""
      ],
      "execution_count": null,
      "outputs": []
    },
    {
      "cell_type": "markdown",
      "metadata": {
        "id": "TKkrPwRM-Oar"
      },
      "source": [
        "# Stretch Goal\n",
        "\n",
        "## For vectors that begin at the origin, the coordinates of where the vector ends can be interpreted as regular data points. (See 3Blue1Brown videos about Spans, Basis, etc.)\n",
        "\n",
        "## Write a function that can calculate the linear projection of each point (x,y) (vector) onto the line y=x. run the function and plot the original points in blue and the new projected points on the line y=x in red. \n",
        "\n",
        "## For extra points plot the orthogonal vectors as a dashed line from the original blue points to the projected red points."
      ]
    },
    {
      "cell_type": "code",
      "metadata": {
        "id": "cp52kZra-ykj",
        "outputId": "ebb06131-023b-4291-ca1b-972f6ececc26",
        "colab": {
          "base_uri": "https://localhost:8080/",
          "height": 265
        }
      },
      "source": [
        "import pandas as pd\n",
        "import matplotlib.pyplot as plt\n",
        "\n",
        "# Creating a dataframe for you to work with -Feel free to not use the dataframe if you don't want to.\n",
        "x_values = [1, 4, 7, 3, 9, 4, 5 ]\n",
        "y_values = [4, 2, 5, 0, 8, 2, 8]\n",
        "\n",
        "data = {\"x\": x_values, \"y\": y_values}\n",
        "\n",
        "df = pd.DataFrame(data)\n",
        "\n",
        "df.head()\n",
        "\n",
        "plt.scatter(df.x, df.y)\n",
        "plt.show()"
      ],
      "execution_count": null,
      "outputs": [
        {
          "output_type": "display_data",
          "data": {
            "image/png": "[encoded data removed]",
            "text/plain": [
              "<Figure size 432x288 with 1 Axes>"
            ]
          },
          "metadata": {
            "tags": [],
            "needs_background": "light"
          }
        }
      ]
    },
    {
      "cell_type": "code",
      "metadata": {
        "id": "EZTA6Tj6BGDb"
      },
      "source": [
        ""
      ],
      "execution_count": null,
      "outputs": []
    }
  ]
}